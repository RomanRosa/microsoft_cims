{
 "cells": [
  {
   "cell_type": "markdown",
   "id": "d8ec9d4e-c462-4f89-9023-9f7520dd2157",
   "metadata": {},
   "source": [
    "### Import Dependencies"
   ]
  },
  {
   "cell_type": "code",
   "execution_count": 2,
   "id": "a05d2eb6-c88f-44a8-88d1-3a02d31f1157",
   "metadata": {
    "tags": []
   },
   "outputs": [
    {
     "name": "stdout",
     "output_type": "stream",
     "text": [
      "Requirement already satisfied: newspaper3k in /opt/conda/lib/python3.10/site-packages (0.2.8)\n",
      "Requirement already satisfied: beautifulsoup4>=4.4.1 in /opt/conda/lib/python3.10/site-packages (from newspaper3k) (4.11.1)\n",
      "Requirement already satisfied: Pillow>=3.3.0 in /opt/conda/lib/python3.10/site-packages (from newspaper3k) (10.0.1)\n",
      "Requirement already satisfied: PyYAML>=3.11 in /opt/conda/lib/python3.10/site-packages/PyYAML-6.0-py3.10-linux-x86_64.egg (from newspaper3k) (6.0)\n",
      "Requirement already satisfied: cssselect>=0.9.2 in /opt/conda/lib/python3.10/site-packages (from newspaper3k) (1.1.0)\n",
      "Requirement already satisfied: lxml>=3.6.0 in /opt/conda/lib/python3.10/site-packages (from newspaper3k) (4.9.3)\n",
      "Requirement already satisfied: nltk>=3.2.1 in /opt/conda/lib/python3.10/site-packages (from newspaper3k) (3.7)\n",
      "Requirement already satisfied: requests>=2.10.0 in /opt/conda/lib/python3.10/site-packages (from newspaper3k) (2.31.0)\n",
      "Requirement already satisfied: feedparser>=5.2.1 in /opt/conda/lib/python3.10/site-packages (from newspaper3k) (6.0.10)\n",
      "Requirement already satisfied: tldextract>=2.0.1 in /opt/conda/lib/python3.10/site-packages (from newspaper3k) (3.2.0)\n",
      "Requirement already satisfied: feedfinder2>=0.0.4 in /opt/conda/lib/python3.10/site-packages (from newspaper3k) (0.0.4)\n",
      "Requirement already satisfied: jieba3k>=0.35.1 in /opt/conda/lib/python3.10/site-packages (from newspaper3k) (0.35.1)\n",
      "Requirement already satisfied: python-dateutil>=2.5.3 in /opt/conda/lib/python3.10/site-packages (from newspaper3k) (2.8.2)\n",
      "Requirement already satisfied: tinysegmenter==0.3 in /opt/conda/lib/python3.10/site-packages (from newspaper3k) (0.3)\n",
      "Requirement already satisfied: soupsieve>1.2 in /opt/conda/lib/python3.10/site-packages (from beautifulsoup4>=4.4.1->newspaper3k) (2.3.1)\n",
      "Requirement already satisfied: six in /opt/conda/lib/python3.10/site-packages (from feedfinder2>=0.0.4->newspaper3k) (1.16.0)\n",
      "Requirement already satisfied: sgmllib3k in /opt/conda/lib/python3.10/site-packages (from feedparser>=5.2.1->newspaper3k) (1.0.0)\n",
      "Requirement already satisfied: click in /opt/conda/lib/python3.10/site-packages (from nltk>=3.2.1->newspaper3k) (8.1.7)\n",
      "Requirement already satisfied: joblib in /opt/conda/lib/python3.10/site-packages (from nltk>=3.2.1->newspaper3k) (1.3.2)\n",
      "Requirement already satisfied: regex>=2021.8.3 in /opt/conda/lib/python3.10/site-packages (from nltk>=3.2.1->newspaper3k) (2022.7.9)\n",
      "Requirement already satisfied: tqdm in /opt/conda/lib/python3.10/site-packages (from nltk>=3.2.1->newspaper3k) (4.64.1)\n",
      "Requirement already satisfied: charset-normalizer<4,>=2 in /opt/conda/lib/python3.10/site-packages (from requests>=2.10.0->newspaper3k) (2.0.4)\n",
      "Requirement already satisfied: idna<4,>=2.5 in /opt/conda/lib/python3.10/site-packages (from requests>=2.10.0->newspaper3k) (3.3)\n",
      "Requirement already satisfied: urllib3<3,>=1.21.1 in /opt/conda/lib/python3.10/site-packages (from requests>=2.10.0->newspaper3k) (2.0.6)\n",
      "Requirement already satisfied: certifi>=2017.4.17 in /opt/conda/lib/python3.10/site-packages (from requests>=2.10.0->newspaper3k) (2023.7.22)\n",
      "Requirement already satisfied: requests-file>=1.4 in /opt/conda/lib/python3.10/site-packages (from tldextract>=2.0.1->newspaper3k) (1.5.1)\n",
      "Requirement already satisfied: filelock>=3.0.8 in /opt/conda/lib/python3.10/site-packages (from tldextract>=2.0.1->newspaper3k) (3.6.0)\n",
      "\u001b[33mWARNING: Running pip as the 'root' user can result in broken permissions and conflicting behaviour with the system package manager. It is recommended to use a virtual environment instead: https://pip.pypa.io/warnings/venv\u001b[0m\u001b[33m\n",
      "\u001b[0m\u001b[33mWARNING: There was an error checking the latest version of pip.\u001b[0m\u001b[33m\n",
      "\u001b[0mRequirement already satisfied: pip in /opt/conda/lib/python3.10/site-packages (23.3)\n",
      "Collecting pip\n",
      "  Downloading pip-23.3.1-py3-none-any.whl.metadata (3.5 kB)\n",
      "Downloading pip-23.3.1-py3-none-any.whl (2.1 MB)\n",
      "\u001b[2K   \u001b[90m━━━━━━━━━━━━━━━━━━━━━━━━━━━━━━━━━━━━━━━━\u001b[0m \u001b[32m2.1/2.1 MB\u001b[0m \u001b[31m7.8 MB/s\u001b[0m eta \u001b[36m0:00:00\u001b[0m:00:01\u001b[0m00:01\u001b[0m\n",
      "\u001b[?25hInstalling collected packages: pip\n",
      "  Attempting uninstall: pip\n",
      "    Found existing installation: pip 23.3\n",
      "    Uninstalling pip-23.3:\n",
      "      Successfully uninstalled pip-23.3\n",
      "Successfully installed pip-23.3.1\n",
      "\u001b[33mWARNING: Running pip as the 'root' user can result in broken permissions and conflicting behaviour with the system package manager. It is recommended to use a virtual environment instead: https://pip.pypa.io/warnings/venv\u001b[0m\u001b[33m\n",
      "\u001b[0m\u001b[33mWARNING: There was an error checking the latest version of pip.\u001b[0m\u001b[33m\n",
      "\u001b[0m"
     ]
    }
   ],
   "source": [
    "!pip install newspaper3k\n",
    "!pip install --upgrade pip"
   ]
  },
  {
   "cell_type": "code",
   "execution_count": 3,
   "id": "2b8e5ae1-1e7c-47da-8ba8-6e481720c31c",
   "metadata": {
    "tags": []
   },
   "outputs": [],
   "source": [
    "import os\n",
    "import pandas as pd\n",
    "import plotly.graph_objects as go\n",
    "import random\n",
    "import newspaper\n",
    "from newspaper import Article, fulltext, Config, ArticleException\n",
    "import time\n",
    "import numpy as np\n",
    "import requests\n",
    "import re\n",
    "import concurrent.futures\n",
    "from concurrent.futures import ThreadPoolExecutor\n",
    "from time import sleep\n",
    "import threading"
   ]
  },
  {
   "cell_type": "code",
   "execution_count": 4,
   "id": "d3076bcb-4d71-4ce8-98e9-e7b7feaa4611",
   "metadata": {
    "tags": []
   },
   "outputs": [
    {
     "name": "stderr",
     "output_type": "stream",
     "text": [
      "[nltk_data] Downloading package punkt to /root/nltk_data...\n",
      "[nltk_data]   Package punkt is already up-to-date!\n",
      "[nltk_data] Downloading package stopwords to /root/nltk_data...\n",
      "[nltk_data]   Package stopwords is already up-to-date!\n"
     ]
    }
   ],
   "source": [
    "import nltk\n",
    "nltk.download('punkt')\n",
    "nltk.download('stopwords')\n",
    "from nltk.corpus import stopwords\n",
    "from nltk.tokenize import word_tokenize"
   ]
  },
  {
   "cell_type": "markdown",
   "id": "7bcbb244-fcb5-4a4a-92a6-9aa42598504e",
   "metadata": {},
   "source": [
    "### FY24 ###\n",
    "\n",
    "\n",
    "This function takes a string argument 'country' and returns a string representing the region the country belongs to.\n",
    "\n",
    "The regions are defined as follows:\n",
    "\n",
    "- 'Brazil' for Brazil\n",
    "- 'Argentina' for Argentina\n",
    "- 'Mexico' for Mexico\n",
    "- 'Chile' for Chile\n",
    "- 'Andean Region' for Colombia, Bolivia, Ecuador, Paraguay, Peru and Uruguay\n",
    "- 'Central' for Central America countries, Costa Rica, Guatemala, Honduras, Panama, El Salvador, Dominican Republic, Republica Dominicana, Jamaica, Puerto Rico, Trinidad y Tobago and Trinidad and Tobago\n",
    "- 'Other' for any other country"
   ]
  },
  {
   "cell_type": "code",
   "execution_count": 5,
   "id": "dbf6b0fb-fb49-40bc-88ac-af6ee0b003c5",
   "metadata": {
    "tags": []
   },
   "outputs": [],
   "source": [
    "user = 'katia.bedolla@porternovelli.mx'\n",
    "API_TOKEN = '7a7668b8111a6e4d5750c12a8c93b56d'\n",
    "\n",
    "class DiffbotClient(object):\n",
    "    base_url = 'http://api.diffbot.com/'\n",
    "\n",
    "    def __init__(self):\n",
    "        self.session = requests.Session()\n",
    "\n",
    "    def request(self, url, token, api, fields=None, version=3, **kwargs):\n",
    "        params = {\"url\": url, \"token\": token}\n",
    "        if fields:\n",
    "            params['fields'] = fields\n",
    "        params.update(kwargs)\n",
    "        response = self.session.get(self.compose_url(api, version), params=params, timeout=10)\n",
    "        response.raise_for_status()\n",
    "        return response.json()\n",
    "\n",
    "    def compose_url(self, api, version_number):\n",
    "        version = self.format_version_string(version_number)\n",
    "        return '{}{}/{}'.format(self.base_url, version, api)\n",
    "\n",
    "    @staticmethod\n",
    "    def format_version_string(version_number):\n",
    "        return 'v{}'.format(version_number)\n",
    "\n",
    "def get_content_diffbot(url):\n",
    "    diffbot = DiffbotClient()\n",
    "    token = API_TOKEN\n",
    "    api = \"analyze\"\n",
    "    try:\n",
    "        response = diffbot.request(url, token, api)\n",
    "        if 'objects' in response and len(response['objects']) > 0 and 'text' in response['objects'][0]:\n",
    "            return response['objects'][0]['text']\n",
    "        else:\n",
    "            return \"No Content\"\n",
    "    except:\n",
    "        return \"Something went wrong with url\"\n",
    "\n",
    "\n",
    "def extract_content_from_urls(urls):\n",
    "    threads = []\n",
    "    contents = []\n",
    "    MAX_CONCURRENCY = 15  # set the maximum number of concurrent threads\n",
    "    for i in range(0, len(urls), MAX_CONCURRENCY):\n",
    "        batch = urls[i:i+MAX_CONCURRENCY]\n",
    "        for url in batch:\n",
    "            thread = threading.Thread(target=get_content_news, args=(url, contents))\n",
    "            thread.start()\n",
    "            threads.append(thread)\n",
    "        \n",
    "        for thread in threads:\n",
    "            thread.join()\n",
    "        \n",
    "    return contents\n",
    "\n",
    "def get_content_news(url, contents):\n",
    "    user_agent_list = [\n",
    "   #Chrome\n",
    "     'Mozilla/5.0 (Windows NT 10.0; Win64; x64; rv:96.0) Gecko/20100101 Firefox/96.0',\n",
    "\n",
    "    'Mozilla/5.0 (Windows NT 10.0; Win64; x64) AppleWebKit/537.36 (KHTML, like Gecko) Chrome/60.0.3112.113 Safari/537.36',\n",
    "    'Mozilla/5.0 (Windows NT 6.1; Win64; x64) AppleWebKit/537.36 (KHTML, like Gecko) Chrome/60.0.3112.90 Safari/537.36',\n",
    "    'Mozilla/5.0 (Windows NT 5.1; Win64; x64) AppleWebKit/537.36 (KHTML, like Gecko) Chrome/60.0.3112.90 Safari/537.36',\n",
    "    'Mozilla/5.0 (Windows NT 6.2; Win64; x64) AppleWebKit/537.36 (KHTML, like Gecko) Chrome/60.0.3112.90 Safari/537.36',\n",
    "    'Mozilla/5.0 (X11; Linux x86_64) AppleWebKit/537.36 (KHTML, like Gecko) Chrome/44.0.2403.157 Safari/537.36',\n",
    "    'Mozilla/5.0 (Windows NT 6.3; Win64; x64) AppleWebKit/537.36 (KHTML, like Gecko) Chrome/60.0.3112.113 Safari/537.36',\n",
    "    'Mozilla/5.0 (Windows NT 10.0; Win64; x64) AppleWebKit/537.36 (KHTML, like Gecko) Chrome/57.0.2987.133 Safari/537.36',\n",
    "    'Mozilla/5.0 (Windows NT 6.1; Win64; x64) AppleWebKit/537.36 (KHTML, like Gecko) Chrome/57.0.2987.133 Safari/537.36',\n",
    "    'Mozilla/5.0 (Windows NT 10.0; Win64; x64) AppleWebKit/537.36 (KHTML, like Gecko) Chrome/55.0.2883.87 Safari/537.36',\n",
    "    'Mozilla/5.0 (Windows NT 6.1; Win64; x64) AppleWebKit/537.36 (KHTML, like Gecko) Chrome/55.0.2883.87 Safari/537.36',\n",
    "    #Firefox\n",
    "    'Mozilla/4.0 (compatible; MSIE 9.0; Windows NT 6.1)',\n",
    "    'Mozilla/5.0 (Windows NT 6.1; WOW64; Trident/7.0; rv:11.0) like Gecko',\n",
    "    'Mozilla/5.0 (compatible; MSIE 9.0; Windows NT 6.1; WOW64; Trident/5.0)',\n",
    "    'Mozilla/5.0 (Windows NT 6.1; Trident/7.0; rv:11.0) like Gecko',\n",
    "    'Mozilla/5.0 (Windows NT 6.2; WOW64; Trident/7.0; rv:11.0) like Gecko',\n",
    "    'Mozilla/5.0 (Windows NT 10.0; WOW64; Trident/7.0; rv:11.0) like Gecko',\n",
    "    'Mozilla/5.0 (compatible; MSIE 9.0; Windows NT 6.0; Trident/5.0)',\n",
    "    'Mozilla/5.0 (Windows NT 6.3; WOW64; Trident/7.0; rv:11.0) like Gecko',\n",
    "    'Mozilla/5.0 (compatible; MSIE 9.0; Windows NT 6.1; Trident/5.0)',\n",
    "    'Mozilla/5.0 (Windows NT 6.1; Win64; x64; Trident/7.0; rv:11.0) like Gecko',\n",
    "    'Mozilla/5.0 (compatible; MSIE 10.0; Windows NT 6.1; WOW64; Trident/6.0)',\n",
    "    'Mozilla/5.0 (compatible; MSIE 10.0; Windows NT 6.1; Trident/6.0)',\n",
    "    'Mozilla/4.0 (compatible; MSIE 8.0; Windows NT 5.1; Trident/4.0; .NET CLR 2.0.50727; .NET CLR 3.0.4506.2152; .NET CLR 3.5.30729)'\n",
    "]\n",
    "    user_agent_list = random.choice(user_agent_list)\n",
    "    user_agent = random.choice(user_agent_list)\n",
    "    config = Config()\n",
    "    config.browser_user_agent = user_agent\n",
    "    try:\n",
    "        a = Article(url, config=config)\n",
    "        a.download()\n",
    "        a.parse()\n",
    "        paragraphs = a.text\n",
    "        paragraphs = re.sub(r'<a href=.+?(?=)>|<br/>|\\\\xa0|\\n|</a>|\\xa0|<strong>|</strong>|<br/>•|<i(.*?)</i>|<img(.*?)>','',str(paragraphs))\n",
    "\n",
    "        if isinstance(paragraphs, str) and len(paragraphs) > 0:\n",
    "            print(\"URL Content from {} is correct\".format(url))\n",
    "            return paragraphs\n",
    "        else:\n",
    "            try:\n",
    "                ext_diff = get_content_diffbot(url)\n",
    "                print(\"URL Content from {} is correct from diffbot\")\n",
    "                return ext_diff\n",
    "            except Exception as exce:\n",
    "                print(\"URL Content from {} is OtherError\")\n",
    "    except ArticleException as e:\n",
    "        if \"Invalid leading whitespace, reserved character(s), or returncharacter(s) in header value: ' '\" in str(e):\n",
    "            print(\"Error: Invalid header value in article download.\")\n",
    "        elif \"HTTPSConnectionPool(host='tecnoblog.net', port=443): Read timed out.\" in str(e):\n",
    "            print(\"Error: Connection timed out while downloading article.\")\n",
    "        elif \"403 Client Error: Forbidden\" in str(e):\n",
    "            print(\"Error: Forbidden to access the article.\")\n",
    "        elif \"429 Client Error: Too Many Requests\" in str(e):\n",
    "            print(\"Error: Too Many Requests, waiting for 5 seconds before trying again.\")\n",
    "            sleep(5)\n",
    "        elif \"Article `download()` failed with HTTPSConnectionPool(host='geekzilla.tech', port=443): Read timed out. (read timeout=7) on URL https://geekzilla.tech/llega-red-hat-ansible-automation-platform-a-google-cloud/\" in str(e):\n",
    "            try:\n",
    "                ext_diff = get_content_diffbot(url)\n",
    "                print(\"URL Content from {} is correct from diffbot\".format(url))\n",
    "                return ext_diff\n",
    "            except Exception as exce:\n",
    "                print(\"URL Content from {} is OtherError\")\n",
    "        else:\n",
    "            pass\n",
    "\n",
    "# Define a function to process a single URL\n",
    "def process_url(url):\n",
    "    return get_content_news(url, [])\n",
    "\n",
    "# This function is used to process URLs directly and extract the summary.\n",
    "def process_url_summary(url):\n",
    "    try:\n",
    "        article = Article(url)\n",
    "        article.download()\n",
    "        article.parse()\n",
    "        article.nlp()\n",
    "        summary = article.summary\n",
    "        summary = summary.replace(\"\\n\", \" \")\n",
    "        print(f'Summary for URL: {url} - Successful')\n",
    "        return summary\n",
    "    except:\n",
    "        print(f'Summary for URL: {url} - Failed')\n",
    "        return None"
   ]
  },
  {
   "cell_type": "code",
   "execution_count": 6,
   "id": "585db282-d2f2-4074-b915-42cf98a21d7c",
   "metadata": {
    "tags": []
   },
   "outputs": [],
   "source": [
    " ##### ALL COMPANY DATA #####\n",
    "\"\"\"\n",
    "This function reads all the csv files located in the specified path, and concatenates them into a single dataframe. \n",
    "The function also adds a column for each cloud platform (Microsoft, Google, Apple, Amazon, Salesforce, Oracle) and \n",
    "fills the column with the respective platform name.\n",
    "\n",
    "Parameters:\n",
    "path (str): The path where the csv files are located.\n",
    "\n",
    "Returns:\n",
    "df (pd.DataFrame): A dataframe containing the concatenated data from all the csv files.\n",
    "\"\"\"\n",
    "def all_company_cims(path):\n",
    "    companies_dfs = []\n",
    "    for file in os.listdir(path):\n",
    "        if file.endswith(\".csv\"):\n",
    "            platform = file.split(\"_\")[0].capitalize()\n",
    "            df = pd.read_csv(os.path.join(path, file), sep=None, engine='python')\n",
    "            df[platform] = platform\n",
    "            companies_dfs.append(df)\n",
    "    return pd.concat(companies_dfs, ignore_index=True)"
   ]
  },
  {
   "cell_type": "code",
   "execution_count": null,
   "id": "0ef17ce9-63fd-4527-bdd6-762d09e26f66",
   "metadata": {},
   "outputs": [],
   "source": [
    "all_company = all_company_cims(\"countries_raw_data\")\n",
    "print(all_company.shape)\n",
    "all_company.head()"
   ]
  },
  {
   "cell_type": "code",
   "execution_count": null,
   "id": "2f360765-fe76-4d22-8dcd-42f06628bb64",
   "metadata": {},
   "outputs": [],
   "source": [
    "all_company['Subsidiary']= all_company['Country'].apply(get_region)\n",
    "all_company['Source'] = 'CIMS'\n",
    "print(all_company.shape)\n",
    "all_company.head()"
   ]
  },
  {
   "cell_type": "code",
   "execution_count": null,
   "id": "57e9d625-5048-4e77-979e-9d33aa52df0b",
   "metadata": {},
   "outputs": [],
   "source": [
    "print(all_company['Country'].value_counts())\n",
    "print(\"\\n\\n\")\n",
    "print(all_company['Subsidiary'].value_counts())"
   ]
  },
  {
   "cell_type": "code",
   "execution_count": null,
   "id": "e0093681-252f-4844-963f-f3d119d5ff63",
   "metadata": {},
   "outputs": [],
   "source": [
    "\"\"\"\n",
    "Subsidiary Plot\n",
    "\"\"\"\n",
    "subsidiary_counts = all_company.groupby(\"Subsidiary\").size().reset_index(name=\"counts\")\n",
    "subsidiary_counts = subsidiary_counts.sort_values(by=\"counts\", ascending=True)\n",
    "fig = go.Figure(data=[go.Bar(x=subsidiary_counts[\"Subsidiary\"], y=subsidiary_counts[\"counts\"], text=subsidiary_counts[\"counts\"], \n",
    "                            textposition='auto', marker=dict(color='darkblue'))])\n",
    "\n",
    "fig.update_layout(title=\"Number of Records by Subsidiary: All Company\", xaxis_title=\"Subsidiary\", yaxis_title=\"Number of Records\",\n",
    "                  plot_bgcolor='white')\n",
    "\n",
    "fig.show()"
   ]
  },
  {
   "cell_type": "code",
   "execution_count": null,
   "id": "af17e1f9-47dd-4702-a929-fc9fd3a3241f",
   "metadata": {},
   "outputs": [],
   "source": [
    "\"\"\"\n",
    "Country Plot\n",
    "\"\"\"\n",
    "country_counts = all_company.groupby(\"Country\").size().reset_index(name=\"counts\")\n",
    "country_counts = country_counts.sort_values(by=\"counts\", ascending=True)\n",
    "fig = go.Figure(data=[go.Bar(x=country_counts[\"Country\"], y=country_counts[\"counts\"], text=country_counts[\"counts\"], \n",
    "                            textposition='auto', marker=dict(color='darkred'))])\n",
    "\n",
    "fig.update_layout(title=\"Number of Records by Country: All Company\", xaxis_title=\"Country\", yaxis_title=\"Number of Records\",\n",
    "                  plot_bgcolor='white')\n",
    "\n",
    "fig.show()"
   ]
  },
  {
   "cell_type": "code",
   "execution_count": null,
   "id": "bb4641ad-03a9-43f0-ac77-96d7d52a4153",
   "metadata": {},
   "outputs": [],
   "source": [
    "\"\"\"\n",
    "Company Plot\n",
    "\"\"\"\n",
    "import plotly.graph_objects as go\n",
    "\n",
    "labels = [\"Amazon\", \"Microsoft\", \"Salesforce\", \"Google\", \"Apple\"]\n",
    "values = []\n",
    "\n",
    "# Loop through the companies and retrieve the counts, handling missing companies\n",
    "for company in labels:\n",
    "    try:\n",
    "        values.append(all_company[company].value_counts().sum())\n",
    "    except KeyError:\n",
    "        values.append(0)\n",
    "\n",
    "colors = ['#6B007B', '#6BA5D9', '#AEAEAE', '#D9B300', '#E66C37']\n",
    "fig = go.Figure(data=[go.Pie(labels=labels, values=values, marker=dict(colors=colors), textinfo='value+percent')])\n",
    "fig.update_layout(title='SOV Volume: All Company')\n",
    "fig.show()"
   ]
  },
  {
   "cell_type": "code",
   "execution_count": null,
   "id": "2504395b-62b5-4845-86df-734d47848613",
   "metadata": {},
   "outputs": [],
   "source": [
    "all_company['Published date'] = pd.to_datetime(all_company['Published date'])\n",
    "\n",
    "all_company['Day'] = all_company['Published date'].dt.strftime('%d')\n",
    "all_company['Month'] = all_company['Published date'].dt.strftime('%B')\n",
    "all_company['Year'] = all_company['Published date'].dt.strftime('%Y')\n",
    "print(all_company.shape)\n",
    "all_company.head()"
   ]
  },
  {
   "cell_type": "code",
   "execution_count": null,
   "id": "73a73068-64ca-435d-80b7-43c0f46a7bb7",
   "metadata": {},
   "outputs": [],
   "source": [
    "media_list_fy24= pd.read_excel(r\"FY24_media_list_demo.xlsx\", sheet_name= \"FY24 Media List Americas\")\n",
    "media_list_fy24= media_list_fy24[['Outlet', 'Media Type', 'Region', 'Women', 'Men', '18-24', '25-34', '35-44', '45+']]\n",
    "print(media_list_fy24.shape)\n",
    "media_list_fy24.head()"
   ]
  },
  {
   "cell_type": "code",
   "execution_count": null,
   "id": "93f1ec05-4977-469e-807f-e4945e9b38cc",
   "metadata": {},
   "outputs": [],
   "source": [
    "# Change the column name \"Outlet Name\" of all_company dataframe to \"Outlet\"\n",
    "all_company.rename(columns={'Outlet Name':'Outlet'}, inplace=True)\n",
    "print(all_company.shape)\n",
    "all_company.head()"
   ]
  },
  {
   "cell_type": "code",
   "execution_count": null,
   "id": "78d40558-4714-43f6-bc64-1053f60d1b49",
   "metadata": {},
   "outputs": [],
   "source": [
    "acumulated_dataframes = all_company.merge(media_list_fy24, on='Outlet', how='left')\n",
    "print(acumulated_dataframes.shape)\n",
    "acumulated_dataframes.head()"
   ]
  },
  {
   "cell_type": "code",
   "execution_count": null,
   "id": "72ec5c01-a7c7-43e3-9b0e-dcd4796e8de7",
   "metadata": {},
   "outputs": [],
   "source": [
    "# Print the original column headers\n",
    "print(\"Original column headers:\")\n",
    "print(acumulated_dataframes.columns)"
   ]
  },
  {
   "cell_type": "code",
   "execution_count": null,
   "id": "97921bc3-9236-4154-8f24-f485ac8aad9f",
   "metadata": {},
   "outputs": [],
   "source": [
    "# Clean quotes or double quotes from column headers\n",
    "acumulated_dataframes.columns = acumulated_dataframes.columns.str.replace('\"', '').str.replace(\"'\", '')"
   ]
  },
  {
   "cell_type": "code",
   "execution_count": null,
   "id": "ab71f3a1-202c-425a-b28b-3f4c67245012",
   "metadata": {},
   "outputs": [],
   "source": [
    "# Print the cleaned column headers\n",
    "print(\"\\nCleaned column headers:\")\n",
    "print(acumulated_dataframes.columns)"
   ]
  },
  {
   "cell_type": "code",
   "execution_count": null,
   "id": "378e9b43-ba30-440e-83d3-40449af427f0",
   "metadata": {},
   "outputs": [],
   "source": [
    "# Use concurrent.futures to process URLs concurrently\n",
    "start = time.time()\n",
    "with concurrent.futures.ThreadPoolExecutor() as executor:\n",
    "    results = executor.map(process_url, acumulated_dataframes['Url'])\n",
    "\n",
    "acumulated_dataframes['Content'] = list(results)\n",
    "print(acumulated_dataframes.shape)\n",
    "acumulated_dataframes.head()\n",
    "end = time.time()\n",
    "elapsed_time = (end - start) / 60\n",
    "print(\"Elapsed time: {:.2f} minutes\".format(elapsed_time))\n",
    "\n",
    "print(acumulated_dataframes.shape)\n",
    "acumulated_dataframes.head()"
   ]
  },
  {
   "cell_type": "code",
   "execution_count": null,
   "id": "5f22ff23-812f-45ea-bfb1-53ed56515884",
   "metadata": {},
   "outputs": [],
   "source": [
    "acumulated_dataframes.to_excel(r'acumulated_all_company_preliminary_data_sov_all_10sep_01oct_fy24.xlsx', index=False, engine='xlsxwriter')\n"
   ]
  }
 ],
 "metadata": {
  "availableInstances": [
   {
    "_defaultOrder": 0,
    "_isFastLaunch": true,
    "category": "General purpose",
    "gpuNum": 0,
    "hideHardwareSpecs": false,
    "memoryGiB": 4,
    "name": "ml.t3.medium",
    "vcpuNum": 2
   },
   {
    "_defaultOrder": 1,
    "_isFastLaunch": false,
    "category": "General purpose",
    "gpuNum": 0,
    "hideHardwareSpecs": false,
    "memoryGiB": 8,
    "name": "ml.t3.large",
    "vcpuNum": 2
   },
   {
    "_defaultOrder": 2,
    "_isFastLaunch": false,
    "category": "General purpose",
    "gpuNum": 0,
    "hideHardwareSpecs": false,
    "memoryGiB": 16,
    "name": "ml.t3.xlarge",
    "vcpuNum": 4
   },
   {
    "_defaultOrder": 3,
    "_isFastLaunch": false,
    "category": "General purpose",
    "gpuNum": 0,
    "hideHardwareSpecs": false,
    "memoryGiB": 32,
    "name": "ml.t3.2xlarge",
    "vcpuNum": 8
   },
   {
    "_defaultOrder": 4,
    "_isFastLaunch": true,
    "category": "General purpose",
    "gpuNum": 0,
    "hideHardwareSpecs": false,
    "memoryGiB": 8,
    "name": "ml.m5.large",
    "vcpuNum": 2
   },
   {
    "_defaultOrder": 5,
    "_isFastLaunch": false,
    "category": "General purpose",
    "gpuNum": 0,
    "hideHardwareSpecs": false,
    "memoryGiB": 16,
    "name": "ml.m5.xlarge",
    "vcpuNum": 4
   },
   {
    "_defaultOrder": 6,
    "_isFastLaunch": false,
    "category": "General purpose",
    "gpuNum": 0,
    "hideHardwareSpecs": false,
    "memoryGiB": 32,
    "name": "ml.m5.2xlarge",
    "vcpuNum": 8
   },
   {
    "_defaultOrder": 7,
    "_isFastLaunch": false,
    "category": "General purpose",
    "gpuNum": 0,
    "hideHardwareSpecs": false,
    "memoryGiB": 64,
    "name": "ml.m5.4xlarge",
    "vcpuNum": 16
   },
   {
    "_defaultOrder": 8,
    "_isFastLaunch": false,
    "category": "General purpose",
    "gpuNum": 0,
    "hideHardwareSpecs": false,
    "memoryGiB": 128,
    "name": "ml.m5.8xlarge",
    "vcpuNum": 32
   },
   {
    "_defaultOrder": 9,
    "_isFastLaunch": false,
    "category": "General purpose",
    "gpuNum": 0,
    "hideHardwareSpecs": false,
    "memoryGiB": 192,
    "name": "ml.m5.12xlarge",
    "vcpuNum": 48
   },
   {
    "_defaultOrder": 10,
    "_isFastLaunch": false,
    "category": "General purpose",
    "gpuNum": 0,
    "hideHardwareSpecs": false,
    "memoryGiB": 256,
    "name": "ml.m5.16xlarge",
    "vcpuNum": 64
   },
   {
    "_defaultOrder": 11,
    "_isFastLaunch": false,
    "category": "General purpose",
    "gpuNum": 0,
    "hideHardwareSpecs": false,
    "memoryGiB": 384,
    "name": "ml.m5.24xlarge",
    "vcpuNum": 96
   },
   {
    "_defaultOrder": 12,
    "_isFastLaunch": false,
    "category": "General purpose",
    "gpuNum": 0,
    "hideHardwareSpecs": false,
    "memoryGiB": 8,
    "name": "ml.m5d.large",
    "vcpuNum": 2
   },
   {
    "_defaultOrder": 13,
    "_isFastLaunch": false,
    "category": "General purpose",
    "gpuNum": 0,
    "hideHardwareSpecs": false,
    "memoryGiB": 16,
    "name": "ml.m5d.xlarge",
    "vcpuNum": 4
   },
   {
    "_defaultOrder": 14,
    "_isFastLaunch": false,
    "category": "General purpose",
    "gpuNum": 0,
    "hideHardwareSpecs": false,
    "memoryGiB": 32,
    "name": "ml.m5d.2xlarge",
    "vcpuNum": 8
   },
   {
    "_defaultOrder": 15,
    "_isFastLaunch": false,
    "category": "General purpose",
    "gpuNum": 0,
    "hideHardwareSpecs": false,
    "memoryGiB": 64,
    "name": "ml.m5d.4xlarge",
    "vcpuNum": 16
   },
   {
    "_defaultOrder": 16,
    "_isFastLaunch": false,
    "category": "General purpose",
    "gpuNum": 0,
    "hideHardwareSpecs": false,
    "memoryGiB": 128,
    "name": "ml.m5d.8xlarge",
    "vcpuNum": 32
   },
   {
    "_defaultOrder": 17,
    "_isFastLaunch": false,
    "category": "General purpose",
    "gpuNum": 0,
    "hideHardwareSpecs": false,
    "memoryGiB": 192,
    "name": "ml.m5d.12xlarge",
    "vcpuNum": 48
   },
   {
    "_defaultOrder": 18,
    "_isFastLaunch": false,
    "category": "General purpose",
    "gpuNum": 0,
    "hideHardwareSpecs": false,
    "memoryGiB": 256,
    "name": "ml.m5d.16xlarge",
    "vcpuNum": 64
   },
   {
    "_defaultOrder": 19,
    "_isFastLaunch": false,
    "category": "General purpose",
    "gpuNum": 0,
    "hideHardwareSpecs": false,
    "memoryGiB": 384,
    "name": "ml.m5d.24xlarge",
    "vcpuNum": 96
   },
   {
    "_defaultOrder": 20,
    "_isFastLaunch": false,
    "category": "General purpose",
    "gpuNum": 0,
    "hideHardwareSpecs": true,
    "memoryGiB": 0,
    "name": "ml.geospatial.interactive",
    "supportedImageNames": [
     "sagemaker-geospatial-v1-0"
    ],
    "vcpuNum": 0
   },
   {
    "_defaultOrder": 21,
    "_isFastLaunch": true,
    "category": "Compute optimized",
    "gpuNum": 0,
    "hideHardwareSpecs": false,
    "memoryGiB": 4,
    "name": "ml.c5.large",
    "vcpuNum": 2
   },
   {
    "_defaultOrder": 22,
    "_isFastLaunch": false,
    "category": "Compute optimized",
    "gpuNum": 0,
    "hideHardwareSpecs": false,
    "memoryGiB": 8,
    "name": "ml.c5.xlarge",
    "vcpuNum": 4
   },
   {
    "_defaultOrder": 23,
    "_isFastLaunch": false,
    "category": "Compute optimized",
    "gpuNum": 0,
    "hideHardwareSpecs": false,
    "memoryGiB": 16,
    "name": "ml.c5.2xlarge",
    "vcpuNum": 8
   },
   {
    "_defaultOrder": 24,
    "_isFastLaunch": false,
    "category": "Compute optimized",
    "gpuNum": 0,
    "hideHardwareSpecs": false,
    "memoryGiB": 32,
    "name": "ml.c5.4xlarge",
    "vcpuNum": 16
   },
   {
    "_defaultOrder": 25,
    "_isFastLaunch": false,
    "category": "Compute optimized",
    "gpuNum": 0,
    "hideHardwareSpecs": false,
    "memoryGiB": 72,
    "name": "ml.c5.9xlarge",
    "vcpuNum": 36
   },
   {
    "_defaultOrder": 26,
    "_isFastLaunch": false,
    "category": "Compute optimized",
    "gpuNum": 0,
    "hideHardwareSpecs": false,
    "memoryGiB": 96,
    "name": "ml.c5.12xlarge",
    "vcpuNum": 48
   },
   {
    "_defaultOrder": 27,
    "_isFastLaunch": false,
    "category": "Compute optimized",
    "gpuNum": 0,
    "hideHardwareSpecs": false,
    "memoryGiB": 144,
    "name": "ml.c5.18xlarge",
    "vcpuNum": 72
   },
   {
    "_defaultOrder": 28,
    "_isFastLaunch": false,
    "category": "Compute optimized",
    "gpuNum": 0,
    "hideHardwareSpecs": false,
    "memoryGiB": 192,
    "name": "ml.c5.24xlarge",
    "vcpuNum": 96
   },
   {
    "_defaultOrder": 29,
    "_isFastLaunch": true,
    "category": "Accelerated computing",
    "gpuNum": 1,
    "hideHardwareSpecs": false,
    "memoryGiB": 16,
    "name": "ml.g4dn.xlarge",
    "vcpuNum": 4
   },
   {
    "_defaultOrder": 30,
    "_isFastLaunch": false,
    "category": "Accelerated computing",
    "gpuNum": 1,
    "hideHardwareSpecs": false,
    "memoryGiB": 32,
    "name": "ml.g4dn.2xlarge",
    "vcpuNum": 8
   },
   {
    "_defaultOrder": 31,
    "_isFastLaunch": false,
    "category": "Accelerated computing",
    "gpuNum": 1,
    "hideHardwareSpecs": false,
    "memoryGiB": 64,
    "name": "ml.g4dn.4xlarge",
    "vcpuNum": 16
   },
   {
    "_defaultOrder": 32,
    "_isFastLaunch": false,
    "category": "Accelerated computing",
    "gpuNum": 1,
    "hideHardwareSpecs": false,
    "memoryGiB": 128,
    "name": "ml.g4dn.8xlarge",
    "vcpuNum": 32
   },
   {
    "_defaultOrder": 33,
    "_isFastLaunch": false,
    "category": "Accelerated computing",
    "gpuNum": 4,
    "hideHardwareSpecs": false,
    "memoryGiB": 192,
    "name": "ml.g4dn.12xlarge",
    "vcpuNum": 48
   },
   {
    "_defaultOrder": 34,
    "_isFastLaunch": false,
    "category": "Accelerated computing",
    "gpuNum": 1,
    "hideHardwareSpecs": false,
    "memoryGiB": 256,
    "name": "ml.g4dn.16xlarge",
    "vcpuNum": 64
   },
   {
    "_defaultOrder": 35,
    "_isFastLaunch": false,
    "category": "Accelerated computing",
    "gpuNum": 1,
    "hideHardwareSpecs": false,
    "memoryGiB": 61,
    "name": "ml.p3.2xlarge",
    "vcpuNum": 8
   },
   {
    "_defaultOrder": 36,
    "_isFastLaunch": false,
    "category": "Accelerated computing",
    "gpuNum": 4,
    "hideHardwareSpecs": false,
    "memoryGiB": 244,
    "name": "ml.p3.8xlarge",
    "vcpuNum": 32
   },
   {
    "_defaultOrder": 37,
    "_isFastLaunch": false,
    "category": "Accelerated computing",
    "gpuNum": 8,
    "hideHardwareSpecs": false,
    "memoryGiB": 488,
    "name": "ml.p3.16xlarge",
    "vcpuNum": 64
   },
   {
    "_defaultOrder": 38,
    "_isFastLaunch": false,
    "category": "Accelerated computing",
    "gpuNum": 8,
    "hideHardwareSpecs": false,
    "memoryGiB": 768,
    "name": "ml.p3dn.24xlarge",
    "vcpuNum": 96
   },
   {
    "_defaultOrder": 39,
    "_isFastLaunch": false,
    "category": "Memory Optimized",
    "gpuNum": 0,
    "hideHardwareSpecs": false,
    "memoryGiB": 16,
    "name": "ml.r5.large",
    "vcpuNum": 2
   },
   {
    "_defaultOrder": 40,
    "_isFastLaunch": false,
    "category": "Memory Optimized",
    "gpuNum": 0,
    "hideHardwareSpecs": false,
    "memoryGiB": 32,
    "name": "ml.r5.xlarge",
    "vcpuNum": 4
   },
   {
    "_defaultOrder": 41,
    "_isFastLaunch": false,
    "category": "Memory Optimized",
    "gpuNum": 0,
    "hideHardwareSpecs": false,
    "memoryGiB": 64,
    "name": "ml.r5.2xlarge",
    "vcpuNum": 8
   },
   {
    "_defaultOrder": 42,
    "_isFastLaunch": false,
    "category": "Memory Optimized",
    "gpuNum": 0,
    "hideHardwareSpecs": false,
    "memoryGiB": 128,
    "name": "ml.r5.4xlarge",
    "vcpuNum": 16
   },
   {
    "_defaultOrder": 43,
    "_isFastLaunch": false,
    "category": "Memory Optimized",
    "gpuNum": 0,
    "hideHardwareSpecs": false,
    "memoryGiB": 256,
    "name": "ml.r5.8xlarge",
    "vcpuNum": 32
   },
   {
    "_defaultOrder": 44,
    "_isFastLaunch": false,
    "category": "Memory Optimized",
    "gpuNum": 0,
    "hideHardwareSpecs": false,
    "memoryGiB": 384,
    "name": "ml.r5.12xlarge",
    "vcpuNum": 48
   },
   {
    "_defaultOrder": 45,
    "_isFastLaunch": false,
    "category": "Memory Optimized",
    "gpuNum": 0,
    "hideHardwareSpecs": false,
    "memoryGiB": 512,
    "name": "ml.r5.16xlarge",
    "vcpuNum": 64
   },
   {
    "_defaultOrder": 46,
    "_isFastLaunch": false,
    "category": "Memory Optimized",
    "gpuNum": 0,
    "hideHardwareSpecs": false,
    "memoryGiB": 768,
    "name": "ml.r5.24xlarge",
    "vcpuNum": 96
   },
   {
    "_defaultOrder": 47,
    "_isFastLaunch": false,
    "category": "Accelerated computing",
    "gpuNum": 1,
    "hideHardwareSpecs": false,
    "memoryGiB": 16,
    "name": "ml.g5.xlarge",
    "vcpuNum": 4
   },
   {
    "_defaultOrder": 48,
    "_isFastLaunch": false,
    "category": "Accelerated computing",
    "gpuNum": 1,
    "hideHardwareSpecs": false,
    "memoryGiB": 32,
    "name": "ml.g5.2xlarge",
    "vcpuNum": 8
   },
   {
    "_defaultOrder": 49,
    "_isFastLaunch": false,
    "category": "Accelerated computing",
    "gpuNum": 1,
    "hideHardwareSpecs": false,
    "memoryGiB": 64,
    "name": "ml.g5.4xlarge",
    "vcpuNum": 16
   },
   {
    "_defaultOrder": 50,
    "_isFastLaunch": false,
    "category": "Accelerated computing",
    "gpuNum": 1,
    "hideHardwareSpecs": false,
    "memoryGiB": 128,
    "name": "ml.g5.8xlarge",
    "vcpuNum": 32
   },
   {
    "_defaultOrder": 51,
    "_isFastLaunch": false,
    "category": "Accelerated computing",
    "gpuNum": 1,
    "hideHardwareSpecs": false,
    "memoryGiB": 256,
    "name": "ml.g5.16xlarge",
    "vcpuNum": 64
   },
   {
    "_defaultOrder": 52,
    "_isFastLaunch": false,
    "category": "Accelerated computing",
    "gpuNum": 4,
    "hideHardwareSpecs": false,
    "memoryGiB": 192,
    "name": "ml.g5.12xlarge",
    "vcpuNum": 48
   },
   {
    "_defaultOrder": 53,
    "_isFastLaunch": false,
    "category": "Accelerated computing",
    "gpuNum": 4,
    "hideHardwareSpecs": false,
    "memoryGiB": 384,
    "name": "ml.g5.24xlarge",
    "vcpuNum": 96
   },
   {
    "_defaultOrder": 54,
    "_isFastLaunch": false,
    "category": "Accelerated computing",
    "gpuNum": 8,
    "hideHardwareSpecs": false,
    "memoryGiB": 768,
    "name": "ml.g5.48xlarge",
    "vcpuNum": 192
   },
   {
    "_defaultOrder": 55,
    "_isFastLaunch": false,
    "category": "Accelerated computing",
    "gpuNum": 8,
    "hideHardwareSpecs": false,
    "memoryGiB": 1152,
    "name": "ml.p4d.24xlarge",
    "vcpuNum": 96
   },
   {
    "_defaultOrder": 56,
    "_isFastLaunch": false,
    "category": "Accelerated computing",
    "gpuNum": 8,
    "hideHardwareSpecs": false,
    "memoryGiB": 1152,
    "name": "ml.p4de.24xlarge",
    "vcpuNum": 96
   }
  ],
  "instance_type": "ml.t3.medium",
  "kernelspec": {
   "display_name": "Python 3 (Data Science 3.0)",
   "language": "python",
   "name": "python3__SAGEMAKER_INTERNAL__arn:aws:sagemaker:us-east-2:429704687514:image/sagemaker-data-science-310-v1"
  },
  "language_info": {
   "codemirror_mode": {
    "name": "ipython",
    "version": 3
   },
   "file_extension": ".py",
   "mimetype": "text/x-python",
   "name": "python",
   "nbconvert_exporter": "python",
   "pygments_lexer": "ipython3",
   "version": "3.10.6"
  }
 },
 "nbformat": 4,
 "nbformat_minor": 5
}
